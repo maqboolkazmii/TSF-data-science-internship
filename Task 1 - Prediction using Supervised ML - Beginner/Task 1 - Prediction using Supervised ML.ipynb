{
 "cells": [
  {
   "cell_type": "markdown",
   "id": "fd9734ca-5487-4fc3-bd51-2ca6e34d884f",
   "metadata": {},
   "source": [
    "# **The Sparks Foundation**"
   ]
  },
  {
   "cell_type": "markdown",
   "id": "447dd376-d7ca-456d-94c2-c01640826b81",
   "metadata": {},
   "source": [
    "### Author: Leah Nguyen\n",
    "Copyright © 2021 Leah Nguyen"
   ]
  },
  {
   "cell_type": "markdown",
   "id": "8cc3d7bd-e15f-4998-9c22-8521e2f38030",
   "metadata": {},
   "source": [
    "## **Task 1 - Prediction Using Supervised ML**\n",
    "In this exercise, we will predict the percentage of an student based on the no. of study hours by applying the concepts of a simple linear regression as it involves just 2 variables.\n",
    "\n",
    "The steps are:\n",
    "1.   Import libraries\n",
    "2.   Load Dataset\n",
    "3.   Data Exploration\n",
    "4.   Data Visualization\n",
    "5.   Data Preparation\n",
    "6.   Train Data\n",
    "7.   Test Data\n",
    "8.   Model Evaluation\n",
    "9.   Predicting The Score (Bonus)"
   ]
  },
  {
   "cell_type": "markdown",
   "id": "74e59086-8f20-485c-b323-bd25291feabe",
   "metadata": {},
   "source": [
    "### Import Libraries"
   ]
  },
  {
   "cell_type": "code",
   "execution_count": 1,
   "id": "2e389ac9-5297-42d1-b325-1ec4097fe2ef",
   "metadata": {},
   "outputs": [],
   "source": [
    "# Importing all libraries required in this notebook\n",
    "import pandas as pd\n",
    "import numpy as np  \n",
    "import matplotlib.pyplot as plt\n",
    "import seaborn as sns\n",
    "%matplotlib inline\n",
    "from sklearn.model_selection import train_test_split\n",
    "from sklearn.linear_model import LinearRegression\n",
    "from sklearn.metrics import mean_absolute_error\n",
    "from sklearn import metrics"
   ]
  },
  {
   "cell_type": "markdown",
   "id": "34e183e7-7e3a-4476-8dd1-23ece341ca28",
   "metadata": {},
   "source": [
    "### Load Dataset"
   ]
  },
  {
   "cell_type": "code",
   "execution_count": 2,
   "id": "4f241976-251d-4c4a-8a5c-4e4edefbe286",
   "metadata": {},
   "outputs": [
    {
     "name": "stdout",
     "output_type": "stream",
     "text": [
      "Data is successfully imported\n"
     ]
    },
    {
     "data": {
      "text/html": [
       "<div>\n",
       "<style scoped>\n",
       "    .dataframe tbody tr th:only-of-type {\n",
       "        vertical-align: middle;\n",
       "    }\n",
       "\n",
       "    .dataframe tbody tr th {\n",
       "        vertical-align: top;\n",
       "    }\n",
       "\n",
       "    .dataframe thead th {\n",
       "        text-align: right;\n",
       "    }\n",
       "</style>\n",
       "<table border=\"1\" class=\"dataframe\">\n",
       "  <thead>\n",
       "    <tr style=\"text-align: right;\">\n",
       "      <th></th>\n",
       "      <th>Hours</th>\n",
       "      <th>Scores</th>\n",
       "    </tr>\n",
       "  </thead>\n",
       "  <tbody>\n",
       "    <tr>\n",
       "      <th>0</th>\n",
       "      <td>2.5</td>\n",
       "      <td>21</td>\n",
       "    </tr>\n",
       "    <tr>\n",
       "      <th>1</th>\n",
       "      <td>5.1</td>\n",
       "      <td>47</td>\n",
       "    </tr>\n",
       "    <tr>\n",
       "      <th>2</th>\n",
       "      <td>3.2</td>\n",
       "      <td>27</td>\n",
       "    </tr>\n",
       "    <tr>\n",
       "      <th>3</th>\n",
       "      <td>8.5</td>\n",
       "      <td>75</td>\n",
       "    </tr>\n",
       "    <tr>\n",
       "      <th>4</th>\n",
       "      <td>3.5</td>\n",
       "      <td>30</td>\n",
       "    </tr>\n",
       "    <tr>\n",
       "      <th>5</th>\n",
       "      <td>1.5</td>\n",
       "      <td>20</td>\n",
       "    </tr>\n",
       "    <tr>\n",
       "      <th>6</th>\n",
       "      <td>9.2</td>\n",
       "      <td>88</td>\n",
       "    </tr>\n",
       "    <tr>\n",
       "      <th>7</th>\n",
       "      <td>5.5</td>\n",
       "      <td>60</td>\n",
       "    </tr>\n",
       "    <tr>\n",
       "      <th>8</th>\n",
       "      <td>8.3</td>\n",
       "      <td>81</td>\n",
       "    </tr>\n",
       "    <tr>\n",
       "      <th>9</th>\n",
       "      <td>2.7</td>\n",
       "      <td>25</td>\n",
       "    </tr>\n",
       "  </tbody>\n",
       "</table>\n",
       "</div>"
      ],
      "text/plain": [
       "   Hours  Scores\n",
       "0    2.5      21\n",
       "1    5.1      47\n",
       "2    3.2      27\n",
       "3    8.5      75\n",
       "4    3.5      30\n",
       "5    1.5      20\n",
       "6    9.2      88\n",
       "7    5.5      60\n",
       "8    8.3      81\n",
       "9    2.7      25"
      ]
     },
     "execution_count": 2,
     "metadata": {},
     "output_type": "execute_result"
    }
   ],
   "source": [
    "# Importing data\n",
    "url =  \"http://bit.ly/w-data\"\n",
    "data = pd.read_csv(url)\n",
    "print(\"Data is successfully imported\")\n",
    "\n",
    "# Inspect the first 10 rows of the daataset\n",
    "data.head(10)"
   ]
  },
  {
   "cell_type": "markdown",
   "id": "deb82d25-d8d9-4db8-9fec-08d30322a137",
   "metadata": {},
   "source": [
    "### Data Exploration"
   ]
  },
  {
   "cell_type": "code",
   "execution_count": 3,
   "id": "ffba0c37-3cc1-41ec-bb3d-89eae7919a34",
   "metadata": {},
   "outputs": [
    {
     "data": {
      "text/html": [
       "<div>\n",
       "<style scoped>\n",
       "    .dataframe tbody tr th:only-of-type {\n",
       "        vertical-align: middle;\n",
       "    }\n",
       "\n",
       "    .dataframe tbody tr th {\n",
       "        vertical-align: top;\n",
       "    }\n",
       "\n",
       "    .dataframe thead th {\n",
       "        text-align: right;\n",
       "    }\n",
       "</style>\n",
       "<table border=\"1\" class=\"dataframe\">\n",
       "  <thead>\n",
       "    <tr style=\"text-align: right;\">\n",
       "      <th></th>\n",
       "      <th>Hours</th>\n",
       "      <th>Scores</th>\n",
       "    </tr>\n",
       "  </thead>\n",
       "  <tbody>\n",
       "    <tr>\n",
       "      <th>count</th>\n",
       "      <td>25.000000</td>\n",
       "      <td>25.000000</td>\n",
       "    </tr>\n",
       "    <tr>\n",
       "      <th>mean</th>\n",
       "      <td>5.012000</td>\n",
       "      <td>51.480000</td>\n",
       "    </tr>\n",
       "    <tr>\n",
       "      <th>std</th>\n",
       "      <td>2.525094</td>\n",
       "      <td>25.286887</td>\n",
       "    </tr>\n",
       "    <tr>\n",
       "      <th>min</th>\n",
       "      <td>1.100000</td>\n",
       "      <td>17.000000</td>\n",
       "    </tr>\n",
       "    <tr>\n",
       "      <th>25%</th>\n",
       "      <td>2.700000</td>\n",
       "      <td>30.000000</td>\n",
       "    </tr>\n",
       "    <tr>\n",
       "      <th>50%</th>\n",
       "      <td>4.800000</td>\n",
       "      <td>47.000000</td>\n",
       "    </tr>\n",
       "    <tr>\n",
       "      <th>75%</th>\n",
       "      <td>7.400000</td>\n",
       "      <td>75.000000</td>\n",
       "    </tr>\n",
       "    <tr>\n",
       "      <th>max</th>\n",
       "      <td>9.200000</td>\n",
       "      <td>95.000000</td>\n",
       "    </tr>\n",
       "  </tbody>\n",
       "</table>\n",
       "</div>"
      ],
      "text/plain": [
       "           Hours     Scores\n",
       "count  25.000000  25.000000\n",
       "mean    5.012000  51.480000\n",
       "std     2.525094  25.286887\n",
       "min     1.100000  17.000000\n",
       "25%     2.700000  30.000000\n",
       "50%     4.800000  47.000000\n",
       "75%     7.400000  75.000000\n",
       "max     9.200000  95.000000"
      ]
     },
     "execution_count": 3,
     "metadata": {},
     "output_type": "execute_result"
    }
   ],
   "source": [
    "# We can able to see percentiles,mean,std,max,count of the given dataset by using the describe() function.\n",
    "data.describe()"
   ]
  },
  {
   "cell_type": "code",
   "execution_count": 4,
   "id": "7d39ca1c-60a0-4c35-87c7-d0589c749cee",
   "metadata": {},
   "outputs": [
    {
     "name": "stdout",
     "output_type": "stream",
     "text": [
      "<class 'pandas.core.frame.DataFrame'>\n",
      "RangeIndex: 25 entries, 0 to 24\n",
      "Data columns (total 2 columns):\n",
      " #   Column  Non-Null Count  Dtype  \n",
      "---  ------  --------------  -----  \n",
      " 0   Hours   25 non-null     float64\n",
      " 1   Scores  25 non-null     int64  \n",
      "dtypes: float64(1), int64(1)\n",
      "memory usage: 528.0 bytes\n"
     ]
    }
   ],
   "source": [
    "# Inspect the summary of the dataframe\n",
    "data.info()"
   ]
  },
  {
   "cell_type": "markdown",
   "id": "f2b4dd3c-7a27-4f89-933c-cfa8969161e1",
   "metadata": {},
   "source": [
    "### Visualizing Data\n",
    "Let's plot our data points on 2-D graph to eyeball our dataset and see if we can manually find any relationship between the data."
   ]
  },
  {
   "cell_type": "code",
   "execution_count": 5,
   "id": "5e48697f-5da9-42cf-ada0-3f522bb89f56",
   "metadata": {},
   "outputs": [
    {
     "data": {
      "text/plain": [
       "Text(0, 0.5, 'Score')"
      ]
     },
     "execution_count": 5,
     "metadata": {},
     "output_type": "execute_result"
    },
    {
     "data": {
      "image/png": "[encoded data removed]",
      "text/plain": [
       "<Figure size 432x288 with 1 Axes>"
      ]
     },
     "metadata": {
      "needs_background": "light"
     },
     "output_type": "display_data"
    }
   ],
   "source": [
    "# Plotting the distribution of scores\n",
    "plt.scatter(data.Hours,data.Scores,color='brown',marker='*')\n",
    "plt.title('Studied Hours vs. Score')\n",
    "plt.xlabel('Hours')  \n",
    "plt.ylabel('Score')"
   ]
  },
  {
   "cell_type": "markdown",
   "id": "e4d581a2-47c1-4bfd-a6b2-837b50cb6e6b",
   "metadata": {},
   "source": [
    "- **Finding:** From the graph above, we can clearly see that there is a positive linear relation between the number of hours studied and percentage of score."
   ]
  },
  {
   "cell_type": "markdown",
   "id": "9bec3a88-d5a9-4f6c-8f68-3be07033bd55",
   "metadata": {},
   "source": [
    "### Preparing Data \n",
    "The next step is to divide the data into \"attributes\" (inputs) and \"labels\" (outputs)."
   ]
  },
  {
   "cell_type": "code",
   "execution_count": 6,
   "id": "2d804718-2597-42bc-9660-5fec45cd4b97",
   "metadata": {},
   "outputs": [],
   "source": [
    "x=np.array(data.Hours)\n",
    "y=np.array(data.Scores)"
   ]
  },
  {
   "cell_type": "markdown",
   "id": "c2667b65-2791-4961-b36a-ce2e37782424",
   "metadata": {},
   "source": [
    "Reshaping the numpy array for vertical output."
   ]
  },
  {
   "cell_type": "code",
   "execution_count": 7,
   "id": "4f9c3a54-b973-4c2f-9d00-c024bb6c71bc",
   "metadata": {},
   "outputs": [],
   "source": [
    "x=x.reshape(-1,1)\n",
    "y=y.reshape(-1,1)"
   ]
  },
  {
   "cell_type": "markdown",
   "id": "7648407d-c64b-45ad-9120-cccc2a9eede2",
   "metadata": {},
   "source": [
    "Now that we have our attributes and labels, the next step is to split this data into training and test sets. We'll do this by using Scikit-Learn's built-in train_test_split() method:"
   ]
  },
  {
   "cell_type": "code",
   "execution_count": 8,
   "id": "164d174e-ec8d-4124-91a1-94f64f28e2d1",
   "metadata": {},
   "outputs": [],
   "source": [
    "x_train, x_test, y_train, y_test = train_test_split(x, y, test_size=0.2, random_state=0)"
   ]
  },
  {
   "cell_type": "code",
   "execution_count": 9,
   "id": "9a2d1795-e909-49f9-907d-2724ac2c9aef",
   "metadata": {},
   "outputs": [
    {
     "name": "stdout",
     "output_type": "stream",
     "text": [
      "X train.shape = (20, 1)\n",
      "Y train.shape = (20, 1)\n",
      "X test.shape  = (5, 1)\n",
      "Y test.shape  = (5, 1)\n"
     ]
    }
   ],
   "source": [
    "## We have Splitted Our Data Using 80:20 RULe(PARETO)\n",
    "print(\"X train.shape =\", x_train.shape)\n",
    "print(\"Y train.shape =\", y_train.shape)\n",
    "print(\"X test.shape  =\", x_test.shape)\n",
    "print(\"Y test.shape  =\", y_test.shape)"
   ]
  },
  {
   "cell_type": "markdown",
   "id": "53515fe1-f692-4bcb-af78-75c66f33037c",
   "metadata": {},
   "source": [
    "### Train Data"
   ]
  },
  {
   "cell_type": "markdown",
   "id": "3455e78b-4e94-44ed-9a22-7fc05b4248c8",
   "metadata": {},
   "source": [
    "Calling the linear function and reshaping all the data and fitting it to the model."
   ]
  },
  {
   "cell_type": "code",
   "execution_count": 10,
   "id": "5c5c4f9f-daae-4078-bbdf-13cd5df385cd",
   "metadata": {},
   "outputs": [
    {
     "name": "stdout",
     "output_type": "stream",
     "text": [
      "Training our algorithm is finished\n"
     ]
    }
   ],
   "source": [
    "linreg = LinearRegression()\n",
    "x_test = x_test.reshape(-1,1)\n",
    "y_test = y_test.reshape(-1,1)\n",
    "x_train = x_train.reshape(-1,1)\n",
    "y_train = y_train.reshape(-1,1)\n",
    "linreg.fit(x_train,y_train)\n",
    "\n",
    "print(\"Training our algorithm is finished\")"
   ]
  },
  {
   "cell_type": "markdown",
   "id": "4497db2b-8757-4069-8025-dcf4374c74f2",
   "metadata": {},
   "source": [
    "Formula of simple linear regression"
   ]
  },
  {
   "cell_type": "code",
   "execution_count": 11,
   "id": "baa1891b-6cc3-49f9-8a7f-b4ba4fd50d33",
   "metadata": {},
   "outputs": [],
   "source": [
    "line1=linreg.coef_ * x_train + linreg.intercept_"
   ]
  },
  {
   "cell_type": "code",
   "execution_count": 12,
   "id": "089b047a-89b2-42c8-bb7f-aa086067d39c",
   "metadata": {},
   "outputs": [
    {
     "data": {
      "image/png": "[encoded data removed]",
      "text/plain": [
       "<Figure size 432x288 with 1 Axes>"
      ]
     },
     "metadata": {
      "needs_background": "light"
     },
     "output_type": "display_data"
    }
   ],
   "source": [
    "##plotting on train data\n",
    "plt.scatter(x_train,y_train,color='blue',marker='+')\n",
    "plt.plot(x_train,line1,color='orange',linewidth=1)\n",
    "plt.xlabel(\"Hours\")\n",
    "plt.ylabel(\"Scores\")\n",
    "plt.title(\"Train Set\")\n",
    "plt.show()"
   ]
  },
  {
   "cell_type": "markdown",
   "id": "2a1c336f-4bff-4835-b442-a58542b9eaf5",
   "metadata": {},
   "source": [
    "### Test Data"
   ]
  },
  {
   "cell_type": "markdown",
   "id": "dfe9b406-a7f0-4508-a4f9-fde693c5cfc1",
   "metadata": {},
   "source": [
    "Formula of simple linear regression"
   ]
  },
  {
   "cell_type": "code",
   "execution_count": 13,
   "id": "2d65a51d-d351-46b8-93ab-ab1dfcb45bb7",
   "metadata": {},
   "outputs": [],
   "source": [
    "line2 = linreg.coef_ * x_test + linreg.intercept_"
   ]
  },
  {
   "cell_type": "markdown",
   "id": "16ae0312-6ed7-48c0-9086-d7d2c818a050",
   "metadata": {},
   "source": [
    "Predicting the scores for test data"
   ]
  },
  {
   "cell_type": "code",
   "execution_count": 14,
   "id": "aef58bce-2e16-43ca-b6e2-12fe8b12b151",
   "metadata": {},
   "outputs": [
    {
     "name": "stdout",
     "output_type": "stream",
     "text": [
      "[[16.88414476]\n",
      " [33.73226078]\n",
      " [75.357018  ]\n",
      " [26.79480124]\n",
      " [60.49103328]]\n"
     ]
    }
   ],
   "source": [
    "y_pred=linreg.predict(x_test)\n",
    "print(y_pred)"
   ]
  },
  {
   "cell_type": "code",
   "execution_count": 15,
   "id": "c7f042c8-b5bf-43f9-8ba3-a8c70c11358e",
   "metadata": {},
   "outputs": [
    {
     "data": {
      "image/png": "[encoded data removed]",
      "text/plain": [
       "<Figure size 432x288 with 1 Axes>"
      ]
     },
     "metadata": {
      "needs_background": "light"
     },
     "output_type": "display_data"
    }
   ],
   "source": [
    "##plotting on test data\n",
    "plt.scatter(x_test,y_test,color='blue',marker='+')\n",
    "plt.plot(x_test,line2,color='orange',linewidth=1)\n",
    "plt.xlabel(\"Hours\")\n",
    "plt.ylabel(\"Scores\")\n",
    "plt.title(\"Test Set\")\n",
    "plt.show()"
   ]
  },
  {
   "cell_type": "markdown",
   "id": "2659bf9a-f84b-44b7-b188-87a33157b743",
   "metadata": {},
   "source": [
    "### Model Evaluation"
   ]
  },
  {
   "cell_type": "markdown",
   "id": "8669aa0a-7fe7-478b-b7b9-0f41b80607b1",
   "metadata": {},
   "source": [
    "The final step is to evaluate the performance of algorithm. This step is particularly important to compare how well different algorithms perform on a particular dataset. For simplicity here, we have chosen the mean square error. There are many such metrics."
   ]
  },
  {
   "cell_type": "code",
   "execution_count": 16,
   "id": "68198701-bb60-44b8-9cb1-32f816a2101c",
   "metadata": {},
   "outputs": [
    {
     "data": {
      "text/html": [
       "<div>\n",
       "<style scoped>\n",
       "    .dataframe tbody tr th:only-of-type {\n",
       "        vertical-align: middle;\n",
       "    }\n",
       "\n",
       "    .dataframe tbody tr th {\n",
       "        vertical-align: top;\n",
       "    }\n",
       "\n",
       "    .dataframe thead th {\n",
       "        text-align: right;\n",
       "    }\n",
       "</style>\n",
       "<table border=\"1\" class=\"dataframe\">\n",
       "  <thead>\n",
       "    <tr style=\"text-align: right;\">\n",
       "      <th></th>\n",
       "      <th>Actual</th>\n",
       "      <th>Result</th>\n",
       "    </tr>\n",
       "  </thead>\n",
       "  <tbody>\n",
       "    <tr>\n",
       "      <th>0</th>\n",
       "      <td>20</td>\n",
       "      <td>16.884145</td>\n",
       "    </tr>\n",
       "    <tr>\n",
       "      <th>1</th>\n",
       "      <td>27</td>\n",
       "      <td>33.732261</td>\n",
       "    </tr>\n",
       "    <tr>\n",
       "      <th>2</th>\n",
       "      <td>69</td>\n",
       "      <td>75.357018</td>\n",
       "    </tr>\n",
       "    <tr>\n",
       "      <th>3</th>\n",
       "      <td>30</td>\n",
       "      <td>26.794801</td>\n",
       "    </tr>\n",
       "    <tr>\n",
       "      <th>4</th>\n",
       "      <td>62</td>\n",
       "      <td>60.491033</td>\n",
       "    </tr>\n",
       "  </tbody>\n",
       "</table>\n",
       "</div>"
      ],
      "text/plain": [
       "   Actual     Result\n",
       "0      20  16.884145\n",
       "1      27  33.732261\n",
       "2      69  75.357018\n",
       "3      30  26.794801\n",
       "4      62  60.491033"
      ]
     },
     "execution_count": 16,
     "metadata": {},
     "output_type": "execute_result"
    }
   ],
   "source": [
    "y_test1 = y_test.flatten()\n",
    "prediction = y_pred.flatten()\n",
    "df_compare = pd.DataFrame({ 'Actual':y_test1,'Result':prediction})\n",
    "df_compare"
   ]
  },
  {
   "cell_type": "code",
   "execution_count": 17,
   "id": "188b1192-f78a-496a-b2bf-4548c7bb4d9f",
   "metadata": {},
   "outputs": [
    {
     "name": "stdout",
     "output_type": "stream",
     "text": [
      "Coefficient             = 0.9454906892105354\n",
      "Mean Squared Error      =  21.598769307217456\n",
      "Root Mean Squared Error =  4.647447612100373\n",
      "Mean Absolute Error     =  4.647447612100373\n"
     ]
    }
   ],
   "source": [
    "R_square = metrics.r2_score(y_test,y_pred)\n",
    "MSE = metrics.mean_squared_error(y_test,y_pred)\n",
    "root_E = np.sqrt(metrics.mean_squared_error(y_test,y_pred))\n",
    "Abs_E = np.sqrt(metrics.mean_squared_error(y_test,y_pred))\n",
    "\n",
    "print(\"Coefficient             =\", R_square)\n",
    "print(\"Mean Squared Error      = \",MSE)\n",
    "print(\"Root Mean Squared Error = \",root_E)\n",
    "print(\"Mean Absolute Error     = \",Abs_E)"
   ]
  },
  {
   "cell_type": "markdown",
   "id": "bcb9febe-5ebd-4866-9497-5b240c7fdef4",
   "metadata": {},
   "source": [
    "- **Finding:** Above 94% percentage of coefficient indicates that above fitted Model is a **GOOD MODEL** "
   ]
  },
  {
   "cell_type": "markdown",
   "id": "918620c7-ff0b-402f-81fa-1408f9f3d8b3",
   "metadata": {},
   "source": [
    "### Predicting The Score"
   ]
  },
  {
   "cell_type": "code",
   "execution_count": 18,
   "id": "aa6d7cb8-c290-4113-adf1-12de46a23b17",
   "metadata": {},
   "outputs": [
    {
     "name": "stdout",
     "output_type": "stream",
     "text": [
      "predicted score for a student studying 9.25 hours : [[93.69173249]]\n"
     ]
    }
   ],
   "source": [
    "Prediction_score = linreg.predict([[9.25]])\n",
    "print(\"predicted score for a student studying 9.25 hours :\",Prediction_score)"
   ]
  },
  {
   "cell_type": "markdown",
   "id": "2128a029-4b94-4113-b5b6-5a50ebcf13a4",
   "metadata": {},
   "source": [
    "- **Finding:** From the above result we can say that if a studied for 9.25 then student will secured **93.69 MARKS**"
   ]
  },
  {
   "cell_type": "markdown",
   "id": "be8fb836-1c7c-41b7-8d69-32175e695679",
   "metadata": {},
   "source": [
    "## Complete!"
   ]
  }
 ],
 "metadata": {
  "kernelspec": {
   "display_name": "Python 3",
   "language": "python",
   "name": "python3"
  },
  "language_info": {
   "codemirror_mode": {
    "name": "ipython",
    "version": 3
   },
   "file_extension": ".py",
   "mimetype": "text/x-python",
   "name": "python",
   "nbconvert_exporter": "python",
   "pygments_lexer": "ipython3",
   "version": "3.8.10"
  }
 },
 "nbformat": 4,
 "nbformat_minor": 5
}
